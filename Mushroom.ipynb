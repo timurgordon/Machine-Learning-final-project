{
  "nbformat": 4,
  "nbformat_minor": 0,
  "metadata": {
    "kernelspec": {
      "display_name": "Python 3",
      "language": "python",
      "name": "python3"
    },
    "language_info": {
      "codemirror_mode": {
        "name": "ipython",
        "version": 3
      },
      "file_extension": ".py",
      "mimetype": "text/x-python",
      "name": "python",
      "nbconvert_exporter": "python",
      "pygments_lexer": "ipython3",
      "version": "3.7.4"
    },
    "colab": {
      "name": "Mushroom.ipynb",
      "provenance": [],
      "collapsed_sections": []
    }
  },
  "cells": [
    {
      "cell_type": "markdown",
      "metadata": {
        "id": "QAvqJuqs8oND",
        "colab_type": "text"
      },
      "source": [
        "# Comparing Performances of Classifiers in Determining Mushroom Edibility"
      ]
    },
    {
      "cell_type": "markdown",
      "metadata": {
        "id": "5FU1Cinoh1Kh",
        "colab_type": "text"
      },
      "source": [
        "Defne Aydin, dga264\n",
        "\n",
        "Timur Gordon, tbg252"
      ]
    },
    {
      "cell_type": "markdown",
      "metadata": {
        "id": "atobCDdc83IB",
        "colab_type": "text"
      },
      "source": [
        "## Table of Contents\n",
        "- Import Modules\n",
        "- Load Data\n",
        "- Preprocessing\n",
        "- Initial Visual Exploratory Data Analysis\n",
        "  - Preprocessing Dataframe for Visualization\n",
        "  - Plots\n",
        "- Classifier Comparison Using All Features\n",
        "  - Logistic Regression\n",
        "  - Support Vector Machine\n",
        "  - Decision Tree\n",
        "  - K Nearest Neighbors\n",
        "  - Random Forest Classifier\n",
        "- Feature Selection\n",
        "- Visual Exploratory Data Analysis of Selected Features\n",
        "- Classifier Comparison Using Selected Features\n",
        "  - Logistic Regression\n",
        "  - Support Vector Machine\n",
        "  - Decision Tree\n",
        "  - K Nearest Neighbors\n",
        "  - Random Forest Classifier\n",
        "- Results\n",
        "- Conclusion"
      ]
    },
    {
      "cell_type": "markdown",
      "metadata": {
        "id": "094nQODM_Xqi",
        "colab_type": "text"
      },
      "source": [
        "# Import Modules"
      ]
    },
    {
      "cell_type": "markdown",
      "metadata": {
        "id": "ADkgkIhkAKTO",
        "colab_type": "text"
      },
      "source": [
        "We used the numpy module for matrix operations, the pandas module for dataframes, and the sklearn module for the classifiers. Matplotlib and seaborn modules were used for visualization."
      ]
    },
    {
      "cell_type": "code",
      "metadata": {
        "id": "jzLmLFZQ-CEJ",
        "colab_type": "code",
        "colab": {}
      },
      "source": [
        "import copy\n",
        "import numpy as np\n",
        "import pandas as pd\n",
        "import matplotlib.pyplot as plt\n",
        "import seaborn as sns\n",
        "from sklearn import preprocessing, model_selection, neighbors, metrics\n",
        "from sklearn import linear_model\n",
        "from sklearn.preprocessing import LabelEncoder\n",
        "from sklearn.manifold import TSNE"
      ],
      "execution_count": 0,
      "outputs": []
    },
    {
      "cell_type": "markdown",
      "metadata": {
        "id": "IawWqB0i-CEO",
        "colab_type": "text"
      },
      "source": [
        "# Load the Data\n",
        "The data for this project is taken from the UCI Machine learning repository.\n",
        "\n",
        "The dataset is taken from:\n",
        "https://archive.ics.uci.edu/ml/datasets/Mushroom\n",
        "\n",
        "The dataset contains information about 23 mushrooms species. It's impossible to generate a simple rule that determines whether the mushroom is poisonous or not. By using machine learning tools, we can develop a classifier that identifies poisonous or safe mushrooms by 22 descriptive features.\n",
        "The target variables are definitely poisonous, definitely edible and unknown. The unknown class is combined with the definitely poisonous class in order to avoid false negatives that would pose a safety risk."
      ]
    },
    {
      "cell_type": "code",
      "metadata": {
        "id": "KKqZgJC0-CEP",
        "colab_type": "code",
        "colab": {}
      },
      "source": [
        "base_url = 'https://archive.ics.uci.edu/ml/machine-learning-databases/mushroom/'\n",
        "data_url = base_url + 'agaricus-lepiota.data'\n",
        "names = ['class', 'cap-shape', 'cap-surface', 'cap-color', 'bruises', 'odor', 'gill-attachment',\n",
        "         'gill-spacing', 'gill-size', 'gill-color', 'stalk-shape', 'stalk-root',\n",
        "         'stalk-surface-above-ring', 'stalk-surface-below-ring', 'stalk-color-above-ring',\n",
        "         'stalk-color-below-ring', 'veil-type', 'veil-color', 'ring-number', 'ring-type', \n",
        "         'spore-print-color', 'population', 'habitat']\n",
        "df = pd.read_csv(data_url, delimiter=',', header=None, names=names)\n",
        "\n",
        "# Some values in stalk-root are missing as indicated by '?'\n",
        "# These values are removed from the dataset\n",
        "df = df[df['stalk-root'] != '?']\n"
      ],
      "execution_count": 0,
      "outputs": []
    },
    {
      "cell_type": "markdown",
      "metadata": {
        "id": "HnVMU2dldAMY",
        "colab_type": "text"
      },
      "source": [
        "# Preprocessing"
      ]
    },
    {
      "cell_type": "markdown",
      "metadata": {
        "id": "eHCjf5g3ADd6",
        "colab_type": "text"
      },
      "source": [
        "The data requires preprocessing for classification algorithms, as the attribute values are categorical nominal values. Therefore, the following code is used to transform nominal values into numeric encodings, such that each alphabetic value for a given attribute is transformed into a binary feature. As a result, this step of preproccessing increases the attribute number from 22 to 98."
      ]
    },
    {
      "cell_type": "code",
      "metadata": {
        "id": "wRHvHAiX-CES",
        "colab_type": "code",
        "outputId": "eac96099-3367-4b4b-f392-cd56951dc7da",
        "colab": {
          "base_uri": "https://localhost:8080/",
          "height": 304
        }
      },
      "source": [
        "yraw = np.array(df[\"class\"])\n",
        "poisonous_val = 'p'\n",
        "edible_val = 'e'\n",
        "y = (yraw == edible_val).astype(int)\n",
        "Ipoisonous = 0\n",
        "Iedible = 1\n",
        "# Need to transform nominal values into numeric encodings\n",
        "# For each possible value per class, we will provide a binary feature\n",
        "xnames = names[1:]\n",
        "X = df.loc[:, xnames]\n",
        "X_encoded = pd.get_dummies(X)\n",
        "\n",
        "# Scale\n",
        "Xs = preprocessing.scale(X_encoded)\n",
        "\n",
        "# Train test split\n",
        "X_train, X_test, y_train, y_test = model_selection.train_test_split(Xs, y, test_size=0.3, stratify=y)\n",
        "X_encoded.head()"
      ],
      "execution_count": 3,
      "outputs": [
        {
          "output_type": "execute_result",
          "data": {
            "text/html": [
              "<div>\n",
              "<style scoped>\n",
              "    .dataframe tbody tr th:only-of-type {\n",
              "        vertical-align: middle;\n",
              "    }\n",
              "\n",
              "    .dataframe tbody tr th {\n",
              "        vertical-align: top;\n",
              "    }\n",
              "\n",
              "    .dataframe thead th {\n",
              "        text-align: right;\n",
              "    }\n",
              "</style>\n",
              "<table border=\"1\" class=\"dataframe\">\n",
              "  <thead>\n",
              "    <tr style=\"text-align: right;\">\n",
              "      <th></th>\n",
              "      <th>cap-shape_b</th>\n",
              "      <th>cap-shape_c</th>\n",
              "      <th>cap-shape_f</th>\n",
              "      <th>cap-shape_k</th>\n",
              "      <th>cap-shape_s</th>\n",
              "      <th>cap-shape_x</th>\n",
              "      <th>cap-surface_f</th>\n",
              "      <th>cap-surface_g</th>\n",
              "      <th>cap-surface_s</th>\n",
              "      <th>cap-surface_y</th>\n",
              "      <th>cap-color_b</th>\n",
              "      <th>cap-color_c</th>\n",
              "      <th>cap-color_e</th>\n",
              "      <th>cap-color_g</th>\n",
              "      <th>cap-color_n</th>\n",
              "      <th>cap-color_p</th>\n",
              "      <th>cap-color_w</th>\n",
              "      <th>cap-color_y</th>\n",
              "      <th>bruises_f</th>\n",
              "      <th>bruises_t</th>\n",
              "      <th>odor_a</th>\n",
              "      <th>odor_c</th>\n",
              "      <th>odor_f</th>\n",
              "      <th>odor_l</th>\n",
              "      <th>odor_m</th>\n",
              "      <th>odor_n</th>\n",
              "      <th>odor_p</th>\n",
              "      <th>gill-attachment_a</th>\n",
              "      <th>gill-attachment_f</th>\n",
              "      <th>gill-spacing_c</th>\n",
              "      <th>gill-spacing_w</th>\n",
              "      <th>gill-size_b</th>\n",
              "      <th>gill-size_n</th>\n",
              "      <th>gill-color_g</th>\n",
              "      <th>gill-color_h</th>\n",
              "      <th>gill-color_k</th>\n",
              "      <th>gill-color_n</th>\n",
              "      <th>gill-color_p</th>\n",
              "      <th>gill-color_r</th>\n",
              "      <th>gill-color_u</th>\n",
              "      <th>...</th>\n",
              "      <th>stalk-color-above-ring_g</th>\n",
              "      <th>stalk-color-above-ring_n</th>\n",
              "      <th>stalk-color-above-ring_p</th>\n",
              "      <th>stalk-color-above-ring_w</th>\n",
              "      <th>stalk-color-above-ring_y</th>\n",
              "      <th>stalk-color-below-ring_b</th>\n",
              "      <th>stalk-color-below-ring_c</th>\n",
              "      <th>stalk-color-below-ring_g</th>\n",
              "      <th>stalk-color-below-ring_n</th>\n",
              "      <th>stalk-color-below-ring_p</th>\n",
              "      <th>stalk-color-below-ring_w</th>\n",
              "      <th>stalk-color-below-ring_y</th>\n",
              "      <th>veil-type_p</th>\n",
              "      <th>veil-color_w</th>\n",
              "      <th>veil-color_y</th>\n",
              "      <th>ring-number_n</th>\n",
              "      <th>ring-number_o</th>\n",
              "      <th>ring-number_t</th>\n",
              "      <th>ring-type_e</th>\n",
              "      <th>ring-type_l</th>\n",
              "      <th>ring-type_n</th>\n",
              "      <th>ring-type_p</th>\n",
              "      <th>spore-print-color_h</th>\n",
              "      <th>spore-print-color_k</th>\n",
              "      <th>spore-print-color_n</th>\n",
              "      <th>spore-print-color_r</th>\n",
              "      <th>spore-print-color_u</th>\n",
              "      <th>spore-print-color_w</th>\n",
              "      <th>population_a</th>\n",
              "      <th>population_c</th>\n",
              "      <th>population_n</th>\n",
              "      <th>population_s</th>\n",
              "      <th>population_v</th>\n",
              "      <th>population_y</th>\n",
              "      <th>habitat_d</th>\n",
              "      <th>habitat_g</th>\n",
              "      <th>habitat_l</th>\n",
              "      <th>habitat_m</th>\n",
              "      <th>habitat_p</th>\n",
              "      <th>habitat_u</th>\n",
              "    </tr>\n",
              "  </thead>\n",
              "  <tbody>\n",
              "    <tr>\n",
              "      <th>0</th>\n",
              "      <td>0</td>\n",
              "      <td>0</td>\n",
              "      <td>0</td>\n",
              "      <td>0</td>\n",
              "      <td>0</td>\n",
              "      <td>1</td>\n",
              "      <td>0</td>\n",
              "      <td>0</td>\n",
              "      <td>1</td>\n",
              "      <td>0</td>\n",
              "      <td>0</td>\n",
              "      <td>0</td>\n",
              "      <td>0</td>\n",
              "      <td>0</td>\n",
              "      <td>1</td>\n",
              "      <td>0</td>\n",
              "      <td>0</td>\n",
              "      <td>0</td>\n",
              "      <td>0</td>\n",
              "      <td>1</td>\n",
              "      <td>0</td>\n",
              "      <td>0</td>\n",
              "      <td>0</td>\n",
              "      <td>0</td>\n",
              "      <td>0</td>\n",
              "      <td>0</td>\n",
              "      <td>1</td>\n",
              "      <td>0</td>\n",
              "      <td>1</td>\n",
              "      <td>1</td>\n",
              "      <td>0</td>\n",
              "      <td>0</td>\n",
              "      <td>1</td>\n",
              "      <td>0</td>\n",
              "      <td>0</td>\n",
              "      <td>1</td>\n",
              "      <td>0</td>\n",
              "      <td>0</td>\n",
              "      <td>0</td>\n",
              "      <td>0</td>\n",
              "      <td>...</td>\n",
              "      <td>0</td>\n",
              "      <td>0</td>\n",
              "      <td>0</td>\n",
              "      <td>1</td>\n",
              "      <td>0</td>\n",
              "      <td>0</td>\n",
              "      <td>0</td>\n",
              "      <td>0</td>\n",
              "      <td>0</td>\n",
              "      <td>0</td>\n",
              "      <td>1</td>\n",
              "      <td>0</td>\n",
              "      <td>1</td>\n",
              "      <td>1</td>\n",
              "      <td>0</td>\n",
              "      <td>0</td>\n",
              "      <td>1</td>\n",
              "      <td>0</td>\n",
              "      <td>0</td>\n",
              "      <td>0</td>\n",
              "      <td>0</td>\n",
              "      <td>1</td>\n",
              "      <td>0</td>\n",
              "      <td>1</td>\n",
              "      <td>0</td>\n",
              "      <td>0</td>\n",
              "      <td>0</td>\n",
              "      <td>0</td>\n",
              "      <td>0</td>\n",
              "      <td>0</td>\n",
              "      <td>0</td>\n",
              "      <td>1</td>\n",
              "      <td>0</td>\n",
              "      <td>0</td>\n",
              "      <td>0</td>\n",
              "      <td>0</td>\n",
              "      <td>0</td>\n",
              "      <td>0</td>\n",
              "      <td>0</td>\n",
              "      <td>1</td>\n",
              "    </tr>\n",
              "    <tr>\n",
              "      <th>1</th>\n",
              "      <td>0</td>\n",
              "      <td>0</td>\n",
              "      <td>0</td>\n",
              "      <td>0</td>\n",
              "      <td>0</td>\n",
              "      <td>1</td>\n",
              "      <td>0</td>\n",
              "      <td>0</td>\n",
              "      <td>1</td>\n",
              "      <td>0</td>\n",
              "      <td>0</td>\n",
              "      <td>0</td>\n",
              "      <td>0</td>\n",
              "      <td>0</td>\n",
              "      <td>0</td>\n",
              "      <td>0</td>\n",
              "      <td>0</td>\n",
              "      <td>1</td>\n",
              "      <td>0</td>\n",
              "      <td>1</td>\n",
              "      <td>1</td>\n",
              "      <td>0</td>\n",
              "      <td>0</td>\n",
              "      <td>0</td>\n",
              "      <td>0</td>\n",
              "      <td>0</td>\n",
              "      <td>0</td>\n",
              "      <td>0</td>\n",
              "      <td>1</td>\n",
              "      <td>1</td>\n",
              "      <td>0</td>\n",
              "      <td>1</td>\n",
              "      <td>0</td>\n",
              "      <td>0</td>\n",
              "      <td>0</td>\n",
              "      <td>1</td>\n",
              "      <td>0</td>\n",
              "      <td>0</td>\n",
              "      <td>0</td>\n",
              "      <td>0</td>\n",
              "      <td>...</td>\n",
              "      <td>0</td>\n",
              "      <td>0</td>\n",
              "      <td>0</td>\n",
              "      <td>1</td>\n",
              "      <td>0</td>\n",
              "      <td>0</td>\n",
              "      <td>0</td>\n",
              "      <td>0</td>\n",
              "      <td>0</td>\n",
              "      <td>0</td>\n",
              "      <td>1</td>\n",
              "      <td>0</td>\n",
              "      <td>1</td>\n",
              "      <td>1</td>\n",
              "      <td>0</td>\n",
              "      <td>0</td>\n",
              "      <td>1</td>\n",
              "      <td>0</td>\n",
              "      <td>0</td>\n",
              "      <td>0</td>\n",
              "      <td>0</td>\n",
              "      <td>1</td>\n",
              "      <td>0</td>\n",
              "      <td>0</td>\n",
              "      <td>1</td>\n",
              "      <td>0</td>\n",
              "      <td>0</td>\n",
              "      <td>0</td>\n",
              "      <td>0</td>\n",
              "      <td>0</td>\n",
              "      <td>1</td>\n",
              "      <td>0</td>\n",
              "      <td>0</td>\n",
              "      <td>0</td>\n",
              "      <td>0</td>\n",
              "      <td>1</td>\n",
              "      <td>0</td>\n",
              "      <td>0</td>\n",
              "      <td>0</td>\n",
              "      <td>0</td>\n",
              "    </tr>\n",
              "    <tr>\n",
              "      <th>2</th>\n",
              "      <td>1</td>\n",
              "      <td>0</td>\n",
              "      <td>0</td>\n",
              "      <td>0</td>\n",
              "      <td>0</td>\n",
              "      <td>0</td>\n",
              "      <td>0</td>\n",
              "      <td>0</td>\n",
              "      <td>1</td>\n",
              "      <td>0</td>\n",
              "      <td>0</td>\n",
              "      <td>0</td>\n",
              "      <td>0</td>\n",
              "      <td>0</td>\n",
              "      <td>0</td>\n",
              "      <td>0</td>\n",
              "      <td>1</td>\n",
              "      <td>0</td>\n",
              "      <td>0</td>\n",
              "      <td>1</td>\n",
              "      <td>0</td>\n",
              "      <td>0</td>\n",
              "      <td>0</td>\n",
              "      <td>1</td>\n",
              "      <td>0</td>\n",
              "      <td>0</td>\n",
              "      <td>0</td>\n",
              "      <td>0</td>\n",
              "      <td>1</td>\n",
              "      <td>1</td>\n",
              "      <td>0</td>\n",
              "      <td>1</td>\n",
              "      <td>0</td>\n",
              "      <td>0</td>\n",
              "      <td>0</td>\n",
              "      <td>0</td>\n",
              "      <td>1</td>\n",
              "      <td>0</td>\n",
              "      <td>0</td>\n",
              "      <td>0</td>\n",
              "      <td>...</td>\n",
              "      <td>0</td>\n",
              "      <td>0</td>\n",
              "      <td>0</td>\n",
              "      <td>1</td>\n",
              "      <td>0</td>\n",
              "      <td>0</td>\n",
              "      <td>0</td>\n",
              "      <td>0</td>\n",
              "      <td>0</td>\n",
              "      <td>0</td>\n",
              "      <td>1</td>\n",
              "      <td>0</td>\n",
              "      <td>1</td>\n",
              "      <td>1</td>\n",
              "      <td>0</td>\n",
              "      <td>0</td>\n",
              "      <td>1</td>\n",
              "      <td>0</td>\n",
              "      <td>0</td>\n",
              "      <td>0</td>\n",
              "      <td>0</td>\n",
              "      <td>1</td>\n",
              "      <td>0</td>\n",
              "      <td>0</td>\n",
              "      <td>1</td>\n",
              "      <td>0</td>\n",
              "      <td>0</td>\n",
              "      <td>0</td>\n",
              "      <td>0</td>\n",
              "      <td>0</td>\n",
              "      <td>1</td>\n",
              "      <td>0</td>\n",
              "      <td>0</td>\n",
              "      <td>0</td>\n",
              "      <td>0</td>\n",
              "      <td>0</td>\n",
              "      <td>0</td>\n",
              "      <td>1</td>\n",
              "      <td>0</td>\n",
              "      <td>0</td>\n",
              "    </tr>\n",
              "    <tr>\n",
              "      <th>3</th>\n",
              "      <td>0</td>\n",
              "      <td>0</td>\n",
              "      <td>0</td>\n",
              "      <td>0</td>\n",
              "      <td>0</td>\n",
              "      <td>1</td>\n",
              "      <td>0</td>\n",
              "      <td>0</td>\n",
              "      <td>0</td>\n",
              "      <td>1</td>\n",
              "      <td>0</td>\n",
              "      <td>0</td>\n",
              "      <td>0</td>\n",
              "      <td>0</td>\n",
              "      <td>0</td>\n",
              "      <td>0</td>\n",
              "      <td>1</td>\n",
              "      <td>0</td>\n",
              "      <td>0</td>\n",
              "      <td>1</td>\n",
              "      <td>0</td>\n",
              "      <td>0</td>\n",
              "      <td>0</td>\n",
              "      <td>0</td>\n",
              "      <td>0</td>\n",
              "      <td>0</td>\n",
              "      <td>1</td>\n",
              "      <td>0</td>\n",
              "      <td>1</td>\n",
              "      <td>1</td>\n",
              "      <td>0</td>\n",
              "      <td>0</td>\n",
              "      <td>1</td>\n",
              "      <td>0</td>\n",
              "      <td>0</td>\n",
              "      <td>0</td>\n",
              "      <td>1</td>\n",
              "      <td>0</td>\n",
              "      <td>0</td>\n",
              "      <td>0</td>\n",
              "      <td>...</td>\n",
              "      <td>0</td>\n",
              "      <td>0</td>\n",
              "      <td>0</td>\n",
              "      <td>1</td>\n",
              "      <td>0</td>\n",
              "      <td>0</td>\n",
              "      <td>0</td>\n",
              "      <td>0</td>\n",
              "      <td>0</td>\n",
              "      <td>0</td>\n",
              "      <td>1</td>\n",
              "      <td>0</td>\n",
              "      <td>1</td>\n",
              "      <td>1</td>\n",
              "      <td>0</td>\n",
              "      <td>0</td>\n",
              "      <td>1</td>\n",
              "      <td>0</td>\n",
              "      <td>0</td>\n",
              "      <td>0</td>\n",
              "      <td>0</td>\n",
              "      <td>1</td>\n",
              "      <td>0</td>\n",
              "      <td>1</td>\n",
              "      <td>0</td>\n",
              "      <td>0</td>\n",
              "      <td>0</td>\n",
              "      <td>0</td>\n",
              "      <td>0</td>\n",
              "      <td>0</td>\n",
              "      <td>0</td>\n",
              "      <td>1</td>\n",
              "      <td>0</td>\n",
              "      <td>0</td>\n",
              "      <td>0</td>\n",
              "      <td>0</td>\n",
              "      <td>0</td>\n",
              "      <td>0</td>\n",
              "      <td>0</td>\n",
              "      <td>1</td>\n",
              "    </tr>\n",
              "    <tr>\n",
              "      <th>4</th>\n",
              "      <td>0</td>\n",
              "      <td>0</td>\n",
              "      <td>0</td>\n",
              "      <td>0</td>\n",
              "      <td>0</td>\n",
              "      <td>1</td>\n",
              "      <td>0</td>\n",
              "      <td>0</td>\n",
              "      <td>1</td>\n",
              "      <td>0</td>\n",
              "      <td>0</td>\n",
              "      <td>0</td>\n",
              "      <td>0</td>\n",
              "      <td>1</td>\n",
              "      <td>0</td>\n",
              "      <td>0</td>\n",
              "      <td>0</td>\n",
              "      <td>0</td>\n",
              "      <td>1</td>\n",
              "      <td>0</td>\n",
              "      <td>0</td>\n",
              "      <td>0</td>\n",
              "      <td>0</td>\n",
              "      <td>0</td>\n",
              "      <td>0</td>\n",
              "      <td>1</td>\n",
              "      <td>0</td>\n",
              "      <td>0</td>\n",
              "      <td>1</td>\n",
              "      <td>0</td>\n",
              "      <td>1</td>\n",
              "      <td>1</td>\n",
              "      <td>0</td>\n",
              "      <td>0</td>\n",
              "      <td>0</td>\n",
              "      <td>1</td>\n",
              "      <td>0</td>\n",
              "      <td>0</td>\n",
              "      <td>0</td>\n",
              "      <td>0</td>\n",
              "      <td>...</td>\n",
              "      <td>0</td>\n",
              "      <td>0</td>\n",
              "      <td>0</td>\n",
              "      <td>1</td>\n",
              "      <td>0</td>\n",
              "      <td>0</td>\n",
              "      <td>0</td>\n",
              "      <td>0</td>\n",
              "      <td>0</td>\n",
              "      <td>0</td>\n",
              "      <td>1</td>\n",
              "      <td>0</td>\n",
              "      <td>1</td>\n",
              "      <td>1</td>\n",
              "      <td>0</td>\n",
              "      <td>0</td>\n",
              "      <td>1</td>\n",
              "      <td>0</td>\n",
              "      <td>1</td>\n",
              "      <td>0</td>\n",
              "      <td>0</td>\n",
              "      <td>0</td>\n",
              "      <td>0</td>\n",
              "      <td>0</td>\n",
              "      <td>1</td>\n",
              "      <td>0</td>\n",
              "      <td>0</td>\n",
              "      <td>0</td>\n",
              "      <td>1</td>\n",
              "      <td>0</td>\n",
              "      <td>0</td>\n",
              "      <td>0</td>\n",
              "      <td>0</td>\n",
              "      <td>0</td>\n",
              "      <td>0</td>\n",
              "      <td>1</td>\n",
              "      <td>0</td>\n",
              "      <td>0</td>\n",
              "      <td>0</td>\n",
              "      <td>0</td>\n",
              "    </tr>\n",
              "  </tbody>\n",
              "</table>\n",
              "<p>5 rows × 98 columns</p>\n",
              "</div>"
            ],
            "text/plain": [
              "   cap-shape_b  cap-shape_c  cap-shape_f  ...  habitat_m  habitat_p  habitat_u\n",
              "0            0            0            0  ...          0          0          1\n",
              "1            0            0            0  ...          0          0          0\n",
              "2            1            0            0  ...          1          0          0\n",
              "3            0            0            0  ...          0          0          1\n",
              "4            0            0            0  ...          0          0          0\n",
              "\n",
              "[5 rows x 98 columns]"
            ]
          },
          "metadata": {
            "tags": []
          },
          "execution_count": 3
        }
      ]
    },
    {
      "cell_type": "markdown",
      "metadata": {
        "id": "wi2LVXHe2BLW",
        "colab_type": "text"
      },
      "source": [
        "# Initial Visual Exploratory Data Analysis"
      ]
    },
    {
      "cell_type": "markdown",
      "metadata": {
        "id": "BoWmx2jR2Iy5",
        "colab_type": "text"
      },
      "source": [
        "## Preprocessing for data visualization\n",
        "The data must be preproccessed in order to visualize it, as the attribute values are characters rather than numbers. The following code preprocesses a seperate copy of the dataframe by assigning numbers to the attribute values. The prepocessing for visualization and model training are separate."
      ]
    },
    {
      "cell_type": "code",
      "metadata": {
        "id": "ekKZ0-NA2KsW",
        "colab_type": "code",
        "colab": {}
      },
      "source": [
        "# Preprocessed dataframe for violin plot\n",
        "df_violin = copy.deepcopy(df)\n",
        "label_encoder = LabelEncoder()\n",
        "for column in df_violin.columns:\n",
        "    df_violin[column] = label_encoder.fit_transform(df_violin[column])\n",
        "df_violin = df_violin.drop([\"veil-type\"],axis=1)\n",
        "\n",
        "# Preprocessed dataframe for TSNE scatter plot\n",
        "model = TSNE(learning_rate = 100)\n",
        "tsne_data = model.fit_transform(X_encoded.values)\n",
        "tsne_x = tsne_data[:,0]\n",
        "tsne_y = tsne_data[:,1]\n",
        "df_tSNE = pd.DataFrame({\"x\" : tsne_x, \"y\" : tsne_y})"
      ],
      "execution_count": 0,
      "outputs": []
    },
    {
      "cell_type": "markdown",
      "metadata": {
        "id": "6LBOQbyd3AdN",
        "colab_type": "text"
      },
      "source": [
        "## Plots"
      ]
    },
    {
      "cell_type": "markdown",
      "metadata": {
        "id": "p2LmbL05Brxz",
        "colab_type": "text"
      },
      "source": [
        "The bar plot below visualizes the sample population in each class after dropping samples with missing values. A majority of samples are shown to be edible."
      ]
    },
    {
      "cell_type": "code",
      "metadata": {
        "id": "VBua1vc-28vo",
        "colab_type": "code",
        "outputId": "408c1d9f-1fdd-4376-edc4-633e29aa2436",
        "colab": {
          "base_uri": "https://localhost:8080/",
          "height": 265
        }
      },
      "source": [
        "class_size_plot = sns.countplot(x=yraw, data=df)"
      ],
      "execution_count": 5,
      "outputs": [
        {
          "output_type": "display_data",
          "data": {
            "image/png": "[encoded data removed]",
            "text/plain": [
              "<Figure size 432x288 with 1 Axes>"
            ]
          },
          "metadata": {
            "tags": []
          }
        }
      ]
    },
    {
      "cell_type": "markdown",
      "metadata": {
        "id": "hhygsW9-Hfhm",
        "colab_type": "text"
      },
      "source": [
        "The violin plot created using the seaboard module allows us to visualize the features' implication on the target variable. 0, shown in red, denotes the class of poisonous mushrooms. 1, shown in green, denotes the class of edible mushrooms. The less symetrically shaped features, such as odor and spore print color, suggest that the value of the feature is significant at determining whether the mushroom is edible or poisonous. On the other hand, features with near perfect symetry such as cap shape and cap surface provide less insight into whether a mushroom is edible or poisonous."
      ]
    },
    {
      "cell_type": "code",
      "metadata": {
        "id": "XzbNFliv3Huv",
        "colab_type": "code",
        "outputId": "b345510d-95ca-4b3d-b24a-8022103499af",
        "colab": {
          "base_uri": "https://localhost:8080/",
          "height": 446
        }
      },
      "source": [
        "# Violin plot using seaboard module\n",
        "df_melt = pd.melt(df_violin, \"class\", var_name=\"Features\")\n",
        "fig, ax = plt.subplots(figsize=(10,5))\n",
        "violin_plt = sns.violinplot(ax = ax, x=\"Features\", y=\"value\", hue=\"class\", split = True, data=df_melt, inner=None, palette=sns.color_palette([\"tab:red\", \"tab:green\"]))\n",
        "df_x = df_violin.drop([\"class\"],axis = 1)\n",
        "violin_plt.set_xticklabels(rotation = 90, labels = list(df_x.columns));\n"
      ],
      "execution_count": 6,
      "outputs": [
        {
          "output_type": "display_data",
          "data": {
            "image/png": "[encoded data removed]",
            "text/plain": [
              "<Figure size 720x360 with 1 Axes>"
            ]
          },
          "metadata": {
            "tags": []
          }
        }
      ]
    },
    {
      "cell_type": "markdown",
      "metadata": {
        "id": "tn8NfqbPNa31",
        "colab_type": "text"
      },
      "source": [
        "A t-Distributed Stochastic Neighbor Embedding (t-SNE) scatter plot allows us to visualize the dataframe consisting of 98 features. The seperable discrete chunks of classes indicate that the dataset is easily clusterable, and that classifiers will likely achieve perfect accuracy given 98 features. "
      ]
    },
    {
      "cell_type": "code",
      "metadata": {
        "id": "7vfeytXF4Tw8",
        "colab_type": "code",
        "outputId": "3e15eade-e764-4330-b8c1-4887005e7c5e",
        "colab": {
          "base_uri": "https://localhost:8080/",
          "height": 265
        }
      },
      "source": [
        "# tSNE scatter plot using matplotlib\n",
        "plt.scatter(df_tSNE.loc[y==0]['x'], df_tSNE.loc[y ==0]['y'], c= 'tab:red')\n",
        "plt.scatter(df_tSNE.loc[y ==1]['x'], df_tSNE.loc[y ==1]['y'], c= 'tab:green')\n",
        "plt.legend(loc ='lower left', labels = ['poisonous', 'edible'])\n",
        "plt.show()"
      ],
      "execution_count": 36,
      "outputs": [
        {
          "output_type": "display_data",
          "data": {
            "image/png": "[encoded data removed]",
            "text/plain": [
              "<Figure size 432x288 with 1 Axes>"
            ]
          },
          "metadata": {
            "tags": []
          }
        }
      ]
    },
    {
      "cell_type": "markdown",
      "metadata": {
        "id": "xLnefbm59o6I",
        "colab_type": "text"
      },
      "source": [
        "# Classifier Comparison Using All Features"
      ]
    },
    {
      "cell_type": "markdown",
      "metadata": {
        "id": "tEaP2zW6cSmb",
        "colab_type": "text"
      },
      "source": [
        "## Logistic Regression\n",
        "The logistic regression classifier achieves 100% accuracy on testing data, as shown by the printed metrics and the confusion matrix. There are no misclassifications."
      ]
    },
    {
      "cell_type": "code",
      "metadata": {
        "id": "-4uivwgBMRkv",
        "colab_type": "code",
        "outputId": "83508065-7e0b-476f-8090-e52973f78090",
        "colab": {
          "base_uri": "https://localhost:8080/",
          "height": 187
        }
      },
      "source": [
        "# Logistic regression\n",
        "# Create a logistic regression object\n",
        "logreg = linear_model.LogisticRegression(solver='lbfgs')\n",
        "logreg.fit(X_train, y_train)\n",
        "y_pred = logreg.predict(X_test)\n",
        "\n",
        "f1_score = metrics.f1_score(y_test, y_pred)\n",
        "prediction_accuracy = metrics.accuracy_score(y_test, y_pred)\n",
        "precision_score= metrics.precision_score(y_test, y_pred)\n",
        "auc_roc = metrics.roc_auc_score(y_test, y_pred)\n",
        "print(\"Metrics\")\n",
        "print(\"---------\")\n",
        "print(\"f1 score =\", f1_score)\n",
        "print(\"Prediction accuracy =\", prediction_accuracy)\n",
        "print(\"Precision score =\", precision_score)\n",
        "print(\"Auc =\", auc_roc)\n",
        "\n",
        "confusion_matrix = metrics.confusion_matrix(y_test, y_pred)\n",
        "print(\"Confusion Matrix\")\n",
        "print(\"-----------------\")\n",
        "print(confusion_matrix)\n",
        "\n"
      ],
      "execution_count": 8,
      "outputs": [
        {
          "output_type": "stream",
          "text": [
            "Metrics\n",
            "---------\n",
            "f1 score = 1.0\n",
            "Prediction accuracy = 1.0\n",
            "Precision score = 1.0\n",
            "Auc = 1.0\n",
            "Confusion Matrix\n",
            "-----------------\n",
            "[[ 647    0]\n",
            " [   0 1047]]\n"
          ],
          "name": "stdout"
        }
      ]
    },
    {
      "cell_type": "markdown",
      "metadata": {
        "id": "_DqY1L64cil7",
        "colab_type": "text"
      },
      "source": [
        "## SVM Classification\n",
        "The SVM classifier also achieves 100% accuracy on testing data, as shown by the printed metrics and the confusion matrix. There are no misclassifications. "
      ]
    },
    {
      "cell_type": "code",
      "metadata": {
        "id": "WFJu5QsenzAl",
        "colab_type": "code",
        "outputId": "f6b2fd37-e346-498b-90a2-fc764034fac1",
        "colab": {
          "base_uri": "https://localhost:8080/",
          "height": 224
        }
      },
      "source": [
        "# SVM classification\n",
        "from sklearn import svm\n",
        "# create a support vector classifier\n",
        "svc = svm.SVC(kernel='rbf', C=1)\n",
        "svc.fit(X_train, y_train)\n",
        "y_pred = svc.predict(X_test)\n",
        "\n",
        "# Metric Scores\n",
        "f1_score = metrics.f1_score(y_test, y_pred)\n",
        "prediction_accuracy = metrics.accuracy_score(y_test, y_pred)\n",
        "precision_score= metrics.precision_score(y_test, y_pred)\n",
        "print(\"Metrices\")\n",
        "print(\"---------\")\n",
        "print('f1 score =', f1_score)\n",
        "print('Prediction accuracy =', prediction_accuracy)\n",
        "print('Precision score =', precision_score)\n",
        "\n",
        "# Confusion Matrix\n",
        "print(\"Confusion Matrix\")\n",
        "print(\"-----------------\")\n",
        "confusion_matrix = metrics.confusion_matrix(y_test, y_pred)\n",
        "print(confusion_matrix)\n"
      ],
      "execution_count": 9,
      "outputs": [
        {
          "output_type": "stream",
          "text": [
            "/usr/local/lib/python3.6/dist-packages/sklearn/svm/base.py:193: FutureWarning: The default value of gamma will change from 'auto' to 'scale' in version 0.22 to account better for unscaled features. Set gamma explicitly to 'auto' or 'scale' to avoid this warning.\n",
            "  \"avoid this warning.\", FutureWarning)\n"
          ],
          "name": "stderr"
        },
        {
          "output_type": "stream",
          "text": [
            "Metrices\n",
            "---------\n",
            "f1 score = 1.0\n",
            "Prediction accuracy = 1.0\n",
            "Precision score = 1.0\n",
            "Confusion Matrix\n",
            "-----------------\n",
            "[[ 647    0]\n",
            " [   0 1047]]\n"
          ],
          "name": "stdout"
        }
      ]
    },
    {
      "cell_type": "markdown",
      "metadata": {
        "id": "m-cbtBxicsL2",
        "colab_type": "text"
      },
      "source": [
        "## Decision Tree\n",
        "The decision tree classifier also achieves 100% accuracy on testing data, as shown by the printed metrics and the confusion matrix. There are no misclassifications."
      ]
    },
    {
      "cell_type": "code",
      "metadata": {
        "id": "I5YykkSwn1VT",
        "colab_type": "code",
        "outputId": "ac1544e1-eaa7-4ae9-9e6b-3e8273769e91",
        "colab": {
          "base_uri": "https://localhost:8080/",
          "height": 170
        }
      },
      "source": [
        "# Decision tree\n",
        "from sklearn.tree import DecisionTreeClassifier\n",
        "decTree = DecisionTreeClassifier()\n",
        "decTree.fit(X_train,y_train)\n",
        "y_pred = decTree.predict(X_test)\n",
        "\n",
        "f1_score = metrics.f1_score(y_test, y_pred)\n",
        "prediction_accuracy = metrics.accuracy_score(y_test, y_pred)\n",
        "precision_score= metrics.precision_score(y_test, y_pred)\n",
        "print(\"Metrics\")\n",
        "print(\"---------\")\n",
        "print('f1 score =', f1_score)\n",
        "print('Prediction accuracy =', prediction_accuracy)\n",
        "print('Precision score =', precision_score)\n",
        "confusion_matrix = metrics.confusion_matrix(y_test, y_pred)\n",
        "print(\"Confusion Matrix\")\n",
        "print(\"-----------------\")\n",
        "print(confusion_matrix)"
      ],
      "execution_count": 10,
      "outputs": [
        {
          "output_type": "stream",
          "text": [
            "Metrics\n",
            "---------\n",
            "f1 score = 1.0\n",
            "Prediction accuracy = 1.0\n",
            "Precision score = 1.0\n",
            "Confusion Matrix\n",
            "-----------------\n",
            "[[ 647    0]\n",
            " [   0 1047]]\n"
          ],
          "name": "stdout"
        }
      ]
    },
    {
      "cell_type": "markdown",
      "metadata": {
        "id": "fLoVtp-XcwNv",
        "colab_type": "text"
      },
      "source": [
        "## KNN Classifier\n",
        "Just as prior classifiers, the KNN classifier also achieves 100% accuracy on testing data, as shown by the printed metrics and the confusion matrix. There are no misclassifications."
      ]
    },
    {
      "cell_type": "code",
      "metadata": {
        "id": "beT7NhadeF5H",
        "colab_type": "code",
        "outputId": "dc0055c0-a5e8-4ea5-9016-ddf336a7919e",
        "colab": {
          "base_uri": "https://localhost:8080/",
          "height": 802
        }
      },
      "source": [
        "# KNN classifier\n",
        "\n",
        "k_list = list(range(1,25))\n",
        "cv_scores = []\n",
        "\n",
        "# Logging Mean Squared Error for model prediction for K values from 1 to 25\n",
        "for k in k_list:\n",
        "    knn = neighbors.KNeighborsClassifier(n_neighbors=k)\n",
        "    knn.fit(X_train, y_train)\n",
        "    y_pred = knn.predict(X_test)\n",
        "    error = metrics.mean_squared_error(y_pred, y_test)\n",
        "    cv_scores.append(error)\n",
        "\n",
        "# Plotting Mean Squared Error vs. K values \n",
        "plt.figure()\n",
        "plt.figure(figsize=(15,10))\n",
        "plt.title('The optimal number of neighbors', fontsize=20, fontweight='bold')\n",
        "plt.xlabel('Number of Neighbors K', fontsize=15)\n",
        "plt.ylabel('Mean Squared Error', fontsize=15)\n",
        "sns.set_style(\"whitegrid\")\n",
        "plt.plot(k_list, cv_scores)\n",
        "\n",
        "plt.show()\n",
        "\n",
        "# Fitting model with optimal K value\n",
        "k_optimal = k_list[np.argmin(cv_scores)]\n",
        "knn = neighbors.KNeighborsClassifier(n_neighbors=k_optimal)\n",
        "knn.fit(X_train, y_train)\n",
        "y_pred = knn.predict(X_test)\n",
        "\n",
        "# Metric Scores\n",
        "f1_score = metrics.f1_score(y_test, y_pred)\n",
        "prediction_accuracy = metrics.accuracy_score(y_test, y_pred)\n",
        "precision_score= metrics.precision_score(y_test, y_pred)\n",
        "print(\"Metrics\")\n",
        "print(\"---------\")\n",
        "print('f1 score =', f1_score)\n",
        "print('Prediction accuracy =', prediction_accuracy)\n",
        "print('Precision score =', precision_score)\n",
        "\n",
        "# Confusion Matrix\n",
        "confusion_matrix = metrics.confusion_matrix(y_test, y_pred)\n",
        "print(\"Confusion Matrix\")\n",
        "print(\"-----------------\")\n",
        "print(confusion_matrix)"
      ],
      "execution_count": 11,
      "outputs": [
        {
          "output_type": "display_data",
          "data": {
            "text/plain": [
              "<Figure size 432x288 with 0 Axes>"
            ]
          },
          "metadata": {
            "tags": []
          }
        },
        {
          "output_type": "display_data",
          "data": {
            "image/png": "[encoded data removed]",
            "text/plain": [
              "<Figure size 1080x720 with 1 Axes>"
            ]
          },
          "metadata": {
            "tags": []
          }
        },
        {
          "output_type": "stream",
          "text": [
            "Metrics\n",
            "---------\n",
            "f1 score = 1.0\n",
            "Prediction accuracy = 1.0\n",
            "Precision score = 1.0\n",
            "Confusion Matrix\n",
            "-----------------\n",
            "[[ 647    0]\n",
            " [   0 1047]]\n"
          ],
          "name": "stdout"
        }
      ]
    },
    {
      "cell_type": "markdown",
      "metadata": {
        "id": "tQLBPRCOc0b-",
        "colab_type": "text"
      },
      "source": [
        "## Random Forest Classifier"
      ]
    },
    {
      "cell_type": "code",
      "metadata": {
        "id": "eh1VNPe6Tw-A",
        "colab_type": "code",
        "outputId": "37bd5c40-aa87-4123-f208-3f02e3868526",
        "colab": {
          "base_uri": "https://localhost:8080/",
          "height": 170
        }
      },
      "source": [
        "# Random forest\n",
        "from sklearn.ensemble import RandomForestClassifier\n",
        "randForest = RandomForestClassifier(n_estimators=1, random_state=42)\n",
        "randForest.fit(X_train,y_train)\n",
        "y_pred = randForest.predict(X_test)\n",
        "\n",
        "f1_score = metrics.f1_score(y_test, y_pred)\n",
        "prediction_accuracy = metrics.accuracy_score(y_test, y_pred)\n",
        "precision_score= metrics.precision_score(y_test, y_pred)\n",
        "print(\"Metrics\")\n",
        "print(\"---------\")\n",
        "print('f1 score =', f1_score)\n",
        "print('Prediction accuracy =', prediction_accuracy)\n",
        "print('Precision score =', precision_score)\n",
        "\n",
        "confusion_matrix = metrics.confusion_matrix(y_test, y_pred)\n",
        "print(\"Confusion Matrix\")\n",
        "print(\"-----------------\")\n",
        "print(confusion_matrix)"
      ],
      "execution_count": 12,
      "outputs": [
        {
          "output_type": "stream",
          "text": [
            "Metrics\n",
            "---------\n",
            "f1 score = 1.0\n",
            "Prediction accuracy = 1.0\n",
            "Precision score = 1.0\n",
            "Confusion Matrix\n",
            "-----------------\n",
            "[[ 647    0]\n",
            " [   0 1047]]\n"
          ],
          "name": "stdout"
        }
      ]
    },
    {
      "cell_type": "markdown",
      "metadata": {
        "id": "iTJD7UN9hY0x",
        "colab_type": "text"
      },
      "source": [
        "Classification is performed using 5 classifiers. For all 5, accuracy is observed to be 100% or nearly 100%. As shown in the TSNE scatter plot above, these classifiers perform really well due to the makeup of the training data. In order to acccurately compare classifiers, we will perform feature selection and reduce the number of attributes that are used to train each classifier. "
      ]
    },
    {
      "cell_type": "markdown",
      "metadata": {
        "id": "sV5PTIGBDss6",
        "colab_type": "text"
      },
      "source": [
        "# Feature Selection\n",
        "As an initial test to ensure that accuracy will decrease as the number of attributes decrease, we classify the data using 2 feautures.\n",
        "We will perform logistic regression and observe the accuracy for the new training data. The odor and cap color attributes are arbitrarily chosen for this purpose."
      ]
    },
    {
      "cell_type": "code",
      "metadata": {
        "id": "NOppwXmsELnd",
        "colab_type": "code",
        "colab": {}
      },
      "source": [
        "# Picking some random features to check accuracy\n",
        "feature_subset = ['odor', 'cap-color']\n",
        "X1 = df.loc[:, feature_subset]\n",
        "X1_encoded = pd.get_dummies(X1)\n",
        "\n",
        "# Scale\n",
        "Xs1 = preprocessing.scale(X1_encoded)\n",
        "\n",
        "# Train test split\n",
        "X_train1, X_test1, y_train1, y_test1 = model_selection.train_test_split(Xs1, y, test_size=0.2, stratify=y, random_state=0)"
      ],
      "execution_count": 0,
      "outputs": []
    },
    {
      "cell_type": "code",
      "metadata": {
        "id": "IXu5jVLxFRzO",
        "colab_type": "code",
        "outputId": "1f5d8f43-8b3a-401d-a552-d11c69b582ff",
        "colab": {
          "base_uri": "https://localhost:8080/",
          "height": 173
        }
      },
      "source": [
        "# Logistic regression\n",
        "# Create a logistic regression object\n",
        "logreg = linear_model.LogisticRegression()\n",
        "\n",
        "# Fit the training data\n",
        "logreg.fit(X_train1, y_train1)\n",
        "y_pred1 = logreg.predict(X_test1)\n",
        "\n",
        "f1_score = metrics.f1_score(y_test1, y_pred1)\n",
        "prediction_accuracy = metrics.accuracy_score(y_test1, y_pred1)\n",
        "precision_score= metrics.precision_score(y_test1, y_pred1)\n",
        "auc_roc = metrics.roc_auc_score(y_test1, y_pred1)\n",
        "print('f1 score =', f1_score)\n",
        "print('Prediction accuracy =', prediction_accuracy)\n",
        "print('Precision score =', precision_score)\n",
        "print('Auc =', auc_roc)\n",
        "\n",
        "confusion_matrix = metrics.confusion_matrix(y_test1, y_pred1)\n",
        "print(confusion_matrix)\n"
      ],
      "execution_count": 14,
      "outputs": [
        {
          "output_type": "stream",
          "text": [
            "f1 score = 0.9942857142857143\n",
            "Prediction accuracy = 0.9929140832595217\n",
            "Precision score = 0.9914529914529915\n",
            "Auc = 0.9916067783990056\n",
            "[[425   6]\n",
            " [  2 696]]\n"
          ],
          "name": "stdout"
        },
        {
          "output_type": "stream",
          "text": [
            "/usr/local/lib/python3.6/dist-packages/sklearn/linear_model/logistic.py:432: FutureWarning: Default solver will be changed to 'lbfgs' in 0.22. Specify a solver to silence this warning.\n",
            "  FutureWarning)\n"
          ],
          "name": "stderr"
        }
      ]
    },
    {
      "cell_type": "markdown",
      "metadata": {
        "id": "Dp1-X7QpFwPr",
        "colab_type": "text"
      },
      "source": [
        "We observe that the accuracy declines when the feature subset is smaller. However, the difference is still trivial to compare classifiers. We will reduce the attribute number until 90% accuracy is observed with logistic regression.  Classifiers are then compared using the newly obtained feature subset. If the accuracy, the f1-score and the precision are sufficiently smaller than 1 we can successfully compare classifiers."
      ]
    },
    {
      "cell_type": "markdown",
      "metadata": {
        "id": "1RgEGGs6kKzP",
        "colab_type": "text"
      },
      "source": [
        "The attributes that have 2 or less unique categorical values are removed from the training data."
      ]
    },
    {
      "cell_type": "code",
      "metadata": {
        "id": "tNR0T6EIGSt7",
        "colab_type": "code",
        "outputId": "ad94284c-6269-458e-ecb0-358e19a36a33",
        "colab": {
          "base_uri": "https://localhost:8080/",
          "height": 391
        }
      },
      "source": [
        "atts_to_remove = []\n",
        "\n",
        "for name in xnames:\n",
        "  categories = df[name].unique()\n",
        "  n_categories = len(categories)\n",
        "  if (n_categories <= 2):\n",
        "    atts_to_remove.append(name)\n",
        "  print(name, categories, n_categories)"
      ],
      "execution_count": 15,
      "outputs": [
        {
          "output_type": "stream",
          "text": [
            "cap-shape ['x' 'b' 's' 'f' 'k' 'c'] 6\n",
            "cap-surface ['s' 'y' 'f' 'g'] 4\n",
            "cap-color ['n' 'y' 'w' 'g' 'e' 'p' 'b' 'c'] 8\n",
            "bruises ['t' 'f'] 2\n",
            "odor ['p' 'a' 'l' 'n' 'f' 'c' 'm'] 7\n",
            "gill-attachment ['f' 'a'] 2\n",
            "gill-spacing ['c' 'w'] 2\n",
            "gill-size ['n' 'b'] 2\n",
            "gill-color ['k' 'n' 'g' 'p' 'w' 'h' 'u' 'r' 'y'] 9\n",
            "stalk-shape ['e' 't'] 2\n",
            "stalk-root ['e' 'c' 'b' 'r'] 4\n",
            "stalk-surface-above-ring ['s' 'f' 'k' 'y'] 4\n",
            "stalk-surface-below-ring ['s' 'f' 'y' 'k'] 4\n",
            "stalk-color-above-ring ['w' 'g' 'p' 'n' 'b' 'c' 'y'] 7\n",
            "stalk-color-below-ring ['w' 'p' 'g' 'b' 'n' 'c' 'y'] 7\n",
            "veil-type ['p'] 1\n",
            "veil-color ['w' 'y'] 2\n",
            "ring-number ['o' 't' 'n'] 3\n",
            "ring-type ['p' 'e' 'l' 'n'] 4\n",
            "spore-print-color ['k' 'n' 'u' 'h' 'r' 'w'] 6\n",
            "population ['s' 'n' 'a' 'v' 'y' 'c'] 6\n",
            "habitat ['u' 'g' 'm' 'd' 'p' 'l'] 6\n"
          ],
          "name": "stdout"
        }
      ]
    },
    {
      "cell_type": "markdown",
      "metadata": {
        "id": "dF3_EgwRIDpn",
        "colab_type": "text"
      },
      "source": [
        "Here we can see that some feautures only have 2 distinct values. We will remove these features from our training data and observe the change in accuracy for logistic regression."
      ]
    },
    {
      "cell_type": "code",
      "metadata": {
        "id": "4Asf9SQdIN5E",
        "colab_type": "code",
        "outputId": "d7dc9165-1e35-4390-d2d9-ec90da4882b6",
        "colab": {
          "base_uri": "https://localhost:8080/",
          "height": 88
        }
      },
      "source": [
        "print('The attributes that have less than 2 possible nominal values: ', atts_to_remove)\n",
        "xnames1 = []\n",
        "for name in xnames:\n",
        "  if name not in atts_to_remove:\n",
        "    xnames1.append(name)\n",
        "print('These are the attributes we will keep: ', xnames1)\n",
        "print('We will keep', len(xnames1), 'attributes out of', len(xnames), '.')\n"
      ],
      "execution_count": 16,
      "outputs": [
        {
          "output_type": "stream",
          "text": [
            "The attributes that have less than 2 possible nominal values:  ['bruises', 'gill-attachment', 'gill-spacing', 'gill-size', 'stalk-shape', 'veil-type', 'veil-color']\n",
            "These are the attributes we will keep:  ['cap-shape', 'cap-surface', 'cap-color', 'odor', 'gill-color', 'stalk-root', 'stalk-surface-above-ring', 'stalk-surface-below-ring', 'stalk-color-above-ring', 'stalk-color-below-ring', 'ring-number', 'ring-type', 'spore-print-color', 'population', 'habitat']\n",
            "We will keep 15 attributes out of 22 .\n"
          ],
          "name": "stdout"
        }
      ]
    },
    {
      "cell_type": "code",
      "metadata": {
        "id": "ym5lER4oKeVV",
        "colab_type": "code",
        "colab": {}
      },
      "source": [
        "X2 = df.loc[:, xnames1]\n",
        "X2_encoded = pd.get_dummies(X2)\n",
        "\n",
        "# Scale\n",
        "Xs2 = preprocessing.scale(X2_encoded)\n",
        "\n",
        "# Train test split\n",
        "X_train2, X_test2, y_train2, y_test2 = model_selection.train_test_split(Xs2, y, test_size=0.2, stratify=y, random_state=10)"
      ],
      "execution_count": 0,
      "outputs": []
    },
    {
      "cell_type": "code",
      "metadata": {
        "id": "vuNs4fQQLGkD",
        "colab_type": "code",
        "outputId": "bafe5fa1-f73f-4bb7-afcd-6a50706e09c1",
        "colab": {
          "base_uri": "https://localhost:8080/",
          "height": 173
        }
      },
      "source": [
        "# Attempt logistic regression with new feature subset\n",
        "# Logistic regression\n",
        "# Create logistic regression object\n",
        "logreg = linear_model.LogisticRegression()\n",
        "\n",
        "# Fit the training data\n",
        "logreg.fit(X_train2, y_train2)\n",
        "\n",
        "y_pred2 = logreg.predict(X_test2)\n",
        "\n",
        "f1_score = metrics.f1_score(y_test2, y_pred2)\n",
        "prediction_accuracy = metrics.accuracy_score(y_test2, y_pred2)\n",
        "precision_score= metrics.precision_score(y_test2, y_pred2)\n",
        "auc_roc = metrics.roc_auc_score(y_test2, y_pred2)\n",
        "print('f1 score =', f1_score)\n",
        "print('Prediction accuracy =', prediction_accuracy)\n",
        "print('Precision score =', precision_score)\n",
        "print('Auc =', auc_roc)\n",
        "\n",
        "confusion_matrix = metrics.confusion_matrix(y_test2, y_pred2)\n",
        "print(confusion_matrix)\n"
      ],
      "execution_count": 18,
      "outputs": [
        {
          "output_type": "stream",
          "text": [
            "/usr/local/lib/python3.6/dist-packages/sklearn/linear_model/logistic.py:432: FutureWarning: Default solver will be changed to 'lbfgs' in 0.22. Specify a solver to silence this warning.\n",
            "  FutureWarning)\n"
          ],
          "name": "stderr"
        },
        {
          "output_type": "stream",
          "text": [
            "f1 score = 1.0\n",
            "Prediction accuracy = 1.0\n",
            "Precision score = 1.0\n",
            "Auc = 1.0\n",
            "[[431   0]\n",
            " [  0 698]]\n"
          ],
          "name": "stdout"
        }
      ]
    },
    {
      "cell_type": "markdown",
      "metadata": {
        "id": "TuQEsPCOLZYe",
        "colab_type": "text"
      },
      "source": [
        "Our smaller feature subset still yields an accuracy of 100% where all instances are classified as either true positive or true negative. We will now further diminish our feature subset so that we reach an accuracy of 90% using logistic regression.\n",
        "Our initial goal is to achieve this with 10 attributes. After running the code below, for the combination of (15,10), over 3003 possible conditions, we can't find a subset of 10 attributes that yields around 90% accuracy. In our next attempt, we decrease the attribute number to 9 and run the exhaustive search again."
      ]
    },
    {
      "cell_type": "code",
      "metadata": {
        "id": "NzeghKC4L2KF",
        "colab_type": "code",
        "outputId": "f8e037e1-8689-4ad2-d541-0865ee3120ab",
        "colab": {
          "base_uri": "https://localhost:8080/",
          "height": 513
        }
      },
      "source": [
        "from itertools import combinations\n",
        "import warnings\n",
        "combs = list(combinations(xnames1, 9))\n",
        "\n",
        "i=1\n",
        "possible_subsets = []\n",
        "with warnings.catch_warnings():\n",
        "  warnings.simplefilter(\"ignore\")\n",
        "  for xnames2 in combs:\n",
        "    X = df.loc[:, xnames2]\n",
        "    X = pd.get_dummies(X)\n",
        "    Xs = preprocessing.scale(X)\n",
        "    X_train, X_test, y_train, y_test = model_selection.train_test_split(Xs, y, test_size=0.2, stratify=y, random_state=i)\n",
        "    logreg = linear_model.LogisticRegression(solver='lbfgs', verbose=0)\n",
        "    logreg.fit(X_train, y_train)\n",
        "    y_pred = logreg.predict(X_test)\n",
        "    prediction_accuracy = metrics.accuracy_score(y_test, y_pred)\n",
        "    if (prediction_accuracy < 0.91):\n",
        "      print(i)\n",
        "      print(xnames2)\n",
        "      print('Prediction accuracy = ', prediction_accuracy)\n",
        "      print()\n",
        "      possible_subsets.append((i, xnames2, prediction_accuracy))\n",
        "    i +=1\n",
        "\n",
        "    "
      ],
      "execution_count": 19,
      "outputs": [
        {
          "output_type": "stream",
          "text": [
            "556\n",
            "('cap-shape', 'cap-surface', 'cap-color', 'gill-color', 'stalk-root', 'stalk-color-above-ring', 'stalk-color-below-ring', 'ring-number', 'population')\n",
            "Prediction accuracy =  0.8919397697077059\n",
            "\n",
            "589\n",
            "('cap-shape', 'cap-surface', 'cap-color', 'gill-color', 'stalk-surface-above-ring', 'stalk-surface-below-ring', 'stalk-color-above-ring', 'stalk-color-below-ring', 'ring-number')\n",
            "Prediction accuracy =  0.8919397697077059\n",
            "\n",
            "1387\n",
            "('cap-shape', 'cap-surface', 'gill-color', 'stalk-root', 'stalk-surface-above-ring', 'stalk-surface-below-ring', 'stalk-color-above-ring', 'stalk-color-below-ring', 'ring-number')\n",
            "Prediction accuracy =  0.9016829052258636\n",
            "\n",
            "1404\n",
            "('cap-shape', 'cap-surface', 'gill-color', 'stalk-root', 'stalk-surface-above-ring', 'stalk-surface-below-ring', 'stalk-color-below-ring', 'ring-number', 'population')\n",
            "Prediction accuracy =  0.9096545615589017\n",
            "\n",
            "1515\n",
            "('cap-shape', 'cap-surface', 'gill-color', 'stalk-surface-above-ring', 'stalk-surface-below-ring', 'stalk-color-above-ring', 'stalk-color-below-ring', 'ring-number', 'population')\n",
            "Prediction accuracy =  0.9061116031886626\n",
            "\n",
            "2186\n",
            "('cap-shape', 'cap-color', 'gill-color', 'stalk-root', 'stalk-surface-above-ring', 'stalk-surface-below-ring', 'stalk-color-above-ring', 'ring-number', 'population')\n",
            "Prediction accuracy =  0.9034543844109831\n",
            "\n",
            "4988\n",
            "('gill-color', 'stalk-surface-above-ring', 'stalk-surface-below-ring', 'stalk-color-above-ring', 'stalk-color-below-ring', 'ring-number', 'ring-type', 'spore-print-color', 'habitat')\n",
            "Prediction accuracy =  0.9069973427812223\n",
            "\n"
          ],
          "name": "stdout"
        }
      ]
    },
    {
      "cell_type": "markdown",
      "metadata": {
        "id": "RqAzbttMsjX8",
        "colab_type": "text"
      },
      "source": [
        "This time, over 5005 possible combinations of subsets of 9 elements, we find the  subsets that yield an accuracy of around 90%. For each train test split, the random state variable is recorded in order to reproduce the split in the future."
      ]
    },
    {
      "cell_type": "code",
      "metadata": {
        "id": "_2lrd7iRiK-z",
        "colab_type": "code",
        "outputId": "fd172fa3-a8d6-4bcb-db4c-6ba443722d31",
        "colab": {
          "base_uri": "https://localhost:8080/",
          "height": 394
        }
      },
      "source": [
        "for subset in possible_subsets:\n",
        "  print('random_state =', subset[0])\n",
        "  print('Attribute names:', subset[1])\n",
        "  print('Prediction accuracy =', subset[2])"
      ],
      "execution_count": 20,
      "outputs": [
        {
          "output_type": "stream",
          "text": [
            "random_state = 556\n",
            "Attribute names: ('cap-shape', 'cap-surface', 'cap-color', 'gill-color', 'stalk-root', 'stalk-color-above-ring', 'stalk-color-below-ring', 'ring-number', 'population')\n",
            "Prediction accuracy = 0.8919397697077059\n",
            "random_state = 589\n",
            "Attribute names: ('cap-shape', 'cap-surface', 'cap-color', 'gill-color', 'stalk-surface-above-ring', 'stalk-surface-below-ring', 'stalk-color-above-ring', 'stalk-color-below-ring', 'ring-number')\n",
            "Prediction accuracy = 0.8919397697077059\n",
            "random_state = 1387\n",
            "Attribute names: ('cap-shape', 'cap-surface', 'gill-color', 'stalk-root', 'stalk-surface-above-ring', 'stalk-surface-below-ring', 'stalk-color-above-ring', 'stalk-color-below-ring', 'ring-number')\n",
            "Prediction accuracy = 0.9016829052258636\n",
            "random_state = 1404\n",
            "Attribute names: ('cap-shape', 'cap-surface', 'gill-color', 'stalk-root', 'stalk-surface-above-ring', 'stalk-surface-below-ring', 'stalk-color-below-ring', 'ring-number', 'population')\n",
            "Prediction accuracy = 0.9096545615589017\n",
            "random_state = 1515\n",
            "Attribute names: ('cap-shape', 'cap-surface', 'gill-color', 'stalk-surface-above-ring', 'stalk-surface-below-ring', 'stalk-color-above-ring', 'stalk-color-below-ring', 'ring-number', 'population')\n",
            "Prediction accuracy = 0.9061116031886626\n",
            "random_state = 2186\n",
            "Attribute names: ('cap-shape', 'cap-color', 'gill-color', 'stalk-root', 'stalk-surface-above-ring', 'stalk-surface-below-ring', 'stalk-color-above-ring', 'ring-number', 'population')\n",
            "Prediction accuracy = 0.9034543844109831\n",
            "random_state = 4988\n",
            "Attribute names: ('gill-color', 'stalk-surface-above-ring', 'stalk-surface-below-ring', 'stalk-color-above-ring', 'stalk-color-below-ring', 'ring-number', 'ring-type', 'spore-print-color', 'habitat')\n",
            "Prediction accuracy = 0.9069973427812223\n"
          ],
          "name": "stdout"
        }
      ]
    },
    {
      "cell_type": "code",
      "metadata": {
        "id": "AQEsNX41oFi3",
        "colab_type": "code",
        "outputId": "6dda236a-0244-433f-a545-be4859e4a83e",
        "colab": {
          "base_uri": "https://localhost:8080/",
          "height": 173
        }
      },
      "source": [
        "names = possible_subsets[0][1]\n",
        "random_state = possible_subsets[0][0]\n",
        "X3 = df.loc[:, names]\n",
        "X3_encoded = pd.get_dummies(X3)\n",
        "\n",
        "# Scale\n",
        "Xs3 = preprocessing.scale(X3_encoded)\n",
        "\n",
        "# Train test split\n",
        "X_train3, X_test3, y_train3, y_test3 = model_selection.train_test_split(Xs3, y, test_size=0.2, stratify=y, random_state=random_state)\n",
        "\n",
        "# Attempt logistic regression with new feature subset\n",
        "# Logistic regression\n",
        "logreg = linear_model.LogisticRegression()\n",
        "logreg.fit(X_train3, y_train3)\n",
        "y_pred3 = logreg.predict(X_test3)\n",
        "\n",
        "f1_score = metrics.f1_score(y_test3, y_pred3)\n",
        "prediction_accuracy = metrics.accuracy_score(y_test3, y_pred3)\n",
        "precision_score= metrics.precision_score(y_test3, y_pred3)\n",
        "auc_roc = metrics.roc_auc_score(y_test3, y_pred3)\n",
        "print('f1 score =', f1_score)\n",
        "print('Prediction accuracy =', prediction_accuracy)\n",
        "print('Precision score =', precision_score)\n",
        "print('Auc =', auc_roc)\n",
        "\n",
        "confusion_matrix = metrics.confusion_matrix(y_test3, y_pred3)\n",
        "print(confusion_matrix)\n"
      ],
      "execution_count": 21,
      "outputs": [
        {
          "output_type": "stream",
          "text": [
            "f1 score = 0.9132290184921764\n",
            "Prediction accuracy = 0.8919397697077059\n",
            "Precision score = 0.9067796610169492\n",
            "Auc = 0.8833192615294612\n",
            "[[365  66]\n",
            " [ 56 642]]\n"
          ],
          "name": "stdout"
        },
        {
          "output_type": "stream",
          "text": [
            "/usr/local/lib/python3.6/dist-packages/sklearn/linear_model/logistic.py:432: FutureWarning: Default solver will be changed to 'lbfgs' in 0.22. Specify a solver to silence this warning.\n",
            "  FutureWarning)\n"
          ],
          "name": "stderr"
        }
      ]
    },
    {
      "cell_type": "markdown",
      "metadata": {
        "id": "SFWZRxj0tFKe",
        "colab_type": "text"
      },
      "source": [
        "We can now compare our classifiers with this subset of features in order to determine the best classifier for this problem."
      ]
    },
    {
      "cell_type": "markdown",
      "metadata": {
        "id": "S77wHTKq6waV",
        "colab_type": "text"
      },
      "source": [
        "# Visual Exploratory Data Analysis of Selected Features"
      ]
    },
    {
      "cell_type": "code",
      "metadata": {
        "id": "IhGWaErq7GWz",
        "colab_type": "code",
        "colab": {}
      },
      "source": [
        "# Preprocessed dataframe for TSNE scatter plot\n",
        "model = TSNE(learning_rate = 100)\n",
        "tsne_data = model.fit_transform(X3_encoded.values)\n",
        "tsne_x = tsne_data[:,0]\n",
        "tsne_y = tsne_data[:,1]\n",
        "df_TSNE = pd.DataFrame({\"x\" : tsne_x, \"y\" : tsne_y})"
      ],
      "execution_count": 0,
      "outputs": []
    },
    {
      "cell_type": "code",
      "metadata": {
        "id": "nv5xCjRc6u5S",
        "colab_type": "code",
        "outputId": "2f20e62b-e9cf-4cbd-aedb-2f029e43f1d4",
        "colab": {
          "base_uri": "https://localhost:8080/",
          "height": 265
        }
      },
      "source": [
        "# TSNE scatter plot using matplotlib\n",
        "plt.scatter(df_TSNE.loc[y==0]['x'], df_TSNE.loc[y ==0]['y'], c= 'tab:red')\n",
        "plt.scatter(df_TSNE.loc[y ==1]['x'], df_TSNE.loc[y ==1]['y'], c= 'tab:green')\n",
        "plt.legend(loc ='lower left', labels = ['poisonous', 'edible'])\n",
        "plt.show()"
      ],
      "execution_count": 37,
      "outputs": [
        {
          "output_type": "display_data",
          "data": {
            "image/png": "[encoded data removed]",
            "text/plain": [
              "<Figure size 432x288 with 1 Axes>"
            ]
          },
          "metadata": {
            "tags": []
          }
        }
      ]
    },
    {
      "cell_type": "markdown",
      "metadata": {
        "id": "IKPM9vnGSssd",
        "colab_type": "text"
      },
      "source": [
        "The t-SNE scatter plot with reduced features indicates clusters with less seperable boundries. We therefore anticipate that none of the classifiers will be able to achieve zero misclassifications with the provided feature subset."
      ]
    },
    {
      "cell_type": "markdown",
      "metadata": {
        "id": "K15jsZ6JzQPk",
        "colab_type": "text"
      },
      "source": [
        "# Classifier Comparison Using Selected Features\n",
        "We create a log variable and collect metrics from the testing performance of classifiers. We will use this data in the results section to compare the classifiers."
      ]
    },
    {
      "cell_type": "code",
      "metadata": {
        "id": "VPIAxCanOMGF",
        "colab_type": "code",
        "colab": {}
      },
      "source": [
        "#log list to store metric log dictionaries of classifiers\n",
        "log = []"
      ],
      "execution_count": 0,
      "outputs": []
    },
    {
      "cell_type": "markdown",
      "metadata": {
        "id": "Qz_f87G0zZnh",
        "colab_type": "text"
      },
      "source": [
        "## Logistic Regression"
      ]
    },
    {
      "cell_type": "code",
      "metadata": {
        "id": "80-PPNE2zupE",
        "colab_type": "code",
        "outputId": "002291e1-e8cd-4582-8c77-192aa068d7c3",
        "colab": {
          "base_uri": "https://localhost:8080/",
          "height": 173
        }
      },
      "source": [
        "# Logistic regression\n",
        "logreg = linear_model.LogisticRegression()\n",
        "logreg.fit(X_train3, y_train3)\n",
        "y_pred3 = logreg.predict(X_test3)\n",
        "\n",
        "# Getting metric scores\n",
        "f1_score = metrics.f1_score(y_test3, y_pred3)\n",
        "prediction_accuracy = metrics.accuracy_score(y_test3, y_pred3)\n",
        "precision_score = metrics.precision_score(y_test3, y_pred3)\n",
        "auc_roc = metrics.roc_auc_score(y_test3, y_pred3)\n",
        "confusion_matrix = metrics.confusion_matrix(y_test3, y_pred3)\n",
        "\n",
        "# Logging metric scores\n",
        "logistic_log = {\"classifier\" : \"Logistic Regression\", \"f1\" : f1_score, \"accuracy\" : prediction_accuracy , \"precision\" : precision_score, \"confusion\" : confusion_matrix}\n",
        "log.append(logistic_log)\n",
        "\n",
        "# Printing metrics\n",
        "print(\"Metrics\")\n",
        "print(\"---------\")\n",
        "print('f1 score =', f1_score)\n",
        "print('Prediction accuracy =', prediction_accuracy)\n",
        "print('Precision score =', precision_score)\n",
        "print('Auc =', auc_roc)"
      ],
      "execution_count": 39,
      "outputs": [
        {
          "output_type": "stream",
          "text": [
            "Metrics\n",
            "---------\n",
            "f1 score = 0.9132290184921764\n",
            "Prediction accuracy = 0.8919397697077059\n",
            "Precision score = 0.9067796610169492\n",
            "Auc = 0.8833192615294612\n"
          ],
          "name": "stdout"
        },
        {
          "output_type": "stream",
          "text": [
            "/usr/local/lib/python3.6/dist-packages/sklearn/linear_model/logistic.py:432: FutureWarning: Default solver will be changed to 'lbfgs' in 0.22. Specify a solver to silence this warning.\n",
            "  FutureWarning)\n"
          ],
          "name": "stderr"
        }
      ]
    },
    {
      "cell_type": "markdown",
      "metadata": {
        "colab_type": "text",
        "id": "0jma1U8N4tl1"
      },
      "source": [
        "## SVM Classification"
      ]
    },
    {
      "cell_type": "code",
      "metadata": {
        "id": "U1levsu84zQW",
        "colab_type": "code",
        "outputId": "e7f922c4-14da-45ea-9f31-15b86286e3eb",
        "colab": {
          "base_uri": "https://localhost:8080/",
          "height": 156
        }
      },
      "source": [
        "# SVM classification\n",
        "from sklearn import svm\n",
        "# create a support vector classifier\n",
        "svc = svm.SVC(kernel='rbf', C=1)\n",
        "svc.fit(X_train3, y_train3)\n",
        "# Accuracy on the test data\n",
        "y_pred3 = svc.predict(X_test3)\n",
        "\n",
        "# Getting metric scores\n",
        "f1_score = metrics.f1_score(y_test3, y_pred3)\n",
        "prediction_accuracy = metrics.accuracy_score(y_test3, y_pred3)\n",
        "precision_score = metrics.precision_score(y_test3, y_pred3)\n",
        "confusion_matrix = metrics.confusion_matrix(y_test3, y_pred3)\n",
        "\n",
        "# Logging metric scores\n",
        "svm_log = {\"classifier\" : \"SVM\", \"f1\" : f1_score, \"accuracy\" : prediction_accuracy , \"precision\" : precision_score, \"confusion\" : confusion_matrix}\n",
        "log.append(svm_log)\n",
        "\n",
        "# Printing metrics\n",
        "print(\"Metrics\")\n",
        "print(\"---------\")\n",
        "print('f1 score =', f1_score)\n",
        "print('Prediction accuracy =', prediction_accuracy)\n",
        "print('Precision score =', precision_score)"
      ],
      "execution_count": 40,
      "outputs": [
        {
          "output_type": "stream",
          "text": [
            "/usr/local/lib/python3.6/dist-packages/sklearn/svm/base.py:193: FutureWarning: The default value of gamma will change from 'auto' to 'scale' in version 0.22 to account better for unscaled features. Set gamma explicitly to 'auto' or 'scale' to avoid this warning.\n",
            "  \"avoid this warning.\", FutureWarning)\n"
          ],
          "name": "stderr"
        },
        {
          "output_type": "stream",
          "text": [
            "Metrics\n",
            "---------\n",
            "f1 score = 0.9822820694542876\n",
            "Prediction accuracy = 0.9778565101860053\n",
            "Precision score = 0.9719495091164095\n"
          ],
          "name": "stdout"
        }
      ]
    },
    {
      "cell_type": "markdown",
      "metadata": {
        "id": "lICwAHG-4mEg",
        "colab_type": "text"
      },
      "source": [
        "## Decision Tree"
      ]
    },
    {
      "cell_type": "code",
      "metadata": {
        "id": "68hPHbXK5HtW",
        "colab_type": "code",
        "outputId": "4157bf0d-36b6-478e-a6a0-fec3e39d9d0f",
        "colab": {
          "base_uri": "https://localhost:8080/",
          "height": 102
        }
      },
      "source": [
        "# Decision tree\n",
        "from sklearn.tree import DecisionTreeClassifier\n",
        "decTree = DecisionTreeClassifier()\n",
        "decTree.fit(X_train3, y_train3)\n",
        "y_pred3 = decTree.predict(X_test3)\n",
        "\n",
        "# Getting metric scores\n",
        "f1_score = metrics.f1_score(y_test3, y_pred3)\n",
        "prediction_accuracy = metrics.accuracy_score(y_test3, y_pred3)\n",
        "precision_score = metrics.precision_score(y_test3, y_pred3)\n",
        "confusion_matrix = metrics.confusion_matrix(y_test3, y_pred3)\n",
        "\n",
        "# Logging metric scores\n",
        "decision_log = {\"classifier\" : \"Decision Tree\", \"f1\" : f1_score, \"accuracy\" : prediction_accuracy , \"precision\" : precision_score, \"confusion\" : confusion_matrix}\n",
        "log.append(decision_log)\n",
        "\n",
        "# Printing metrics\n",
        "print(\"Metrics\")\n",
        "print(\"---------\")\n",
        "print('f1 score = ', f1_score)\n",
        "print('Prediction accuracy = ', prediction_accuracy)\n",
        "print('Precision score = ', precision_score)"
      ],
      "execution_count": 41,
      "outputs": [
        {
          "output_type": "stream",
          "text": [
            "Metrics\n",
            "---------\n",
            "f1 score =  0.978386167146974\n",
            "Prediction accuracy =  0.9734278122232064\n",
            "Precision score =  0.9840579710144928\n"
          ],
          "name": "stdout"
        }
      ]
    },
    {
      "cell_type": "markdown",
      "metadata": {
        "id": "e_n1nVW-6GgZ",
        "colab_type": "text"
      },
      "source": [
        "## KNN Classifier"
      ]
    },
    {
      "cell_type": "code",
      "metadata": {
        "id": "pRwMq4pN6FhN",
        "colab_type": "code",
        "outputId": "86e9d3cb-6ddf-401b-a56b-fc79ce51620f",
        "colab": {
          "base_uri": "https://localhost:8080/",
          "height": 734
        }
      },
      "source": [
        "# KNN classifier\n",
        "\n",
        "k_list = list(range(1, 30))\n",
        "cv_scores = []\n",
        "\n",
        "# Logging Mean Squared Error for model prediction for K values from 1 to 25\n",
        "for k in k_list:\n",
        "    knn = neighbors.KNeighborsClassifier(n_neighbors=k)\n",
        "    knn.fit(X_train3, y_train3)\n",
        "    y_pred3 = knn.predict(X_test3)\n",
        "    error = metrics.mean_squared_error(y_pred3, y_test3)\n",
        "    cv_scores.append(error)\n",
        "\n",
        "# Plotting Mean Squared Error vs. K values \n",
        "plt.figure()\n",
        "plt.figure(figsize=(15,10))\n",
        "plt.title('The optimal number of neighbors', fontsize=20, fontweight='bold')\n",
        "plt.xlabel('Number of Neighbors K', fontsize=15)\n",
        "plt.ylabel('Mean Squared Error', fontsize=15)\n",
        "sns.set_style(\"whitegrid\")\n",
        "plt.plot(k_list, cv_scores)\n",
        "plt.show()\n",
        "\n",
        "# Fitting and testing model with optimal K value\n",
        "k_optimal = k_list[np.argmin(cv_scores)]\n",
        "knn = neighbors.KNeighborsClassifier(n_neighbors=k_optimal)\n",
        "knn.fit(X_train3, y_train3)\n",
        "y_pred3 = knn.predict(X_test3)\n",
        "\n",
        "# Getting metric scores\n",
        "f1_score = metrics.f1_score(y_test3, y_pred3)\n",
        "prediction_accuracy = metrics.accuracy_score(y_test3, y_pred3)\n",
        "precision_score = metrics.precision_score(y_test3, y_pred3)\n",
        "confusion_matrix = metrics.confusion_matrix(y_test3, y_pred3)\n",
        "\n",
        "# Logging metric scores\n",
        "knn_log = {\"classifier\" : \"KNN\", \"f1\" : f1_score, \"accuracy\" : prediction_accuracy , \"precision\" : precision_score, \"confusion\" : confusion_matrix}\n",
        "log.append(knn_log)\n",
        "\n",
        "# Printing metrics\n",
        "print(\"Metrics\")\n",
        "print(\"---------\")\n",
        "print('f1 score =', f1_score)\n",
        "print('Prediction accuracy =', prediction_accuracy)\n",
        "print('Precision score =', precision_score)"
      ],
      "execution_count": 42,
      "outputs": [
        {
          "output_type": "display_data",
          "data": {
            "text/plain": [
              "<Figure size 432x288 with 0 Axes>"
            ]
          },
          "metadata": {
            "tags": []
          }
        },
        {
          "output_type": "display_data",
          "data": {
            "image/png": "[encoded data removed]",
            "text/plain": [
              "<Figure size 1080x720 with 1 Axes>"
            ]
          },
          "metadata": {
            "tags": []
          }
        },
        {
          "output_type": "stream",
          "text": [
            "Metrics\n",
            "---------\n",
            "f1 score = 0.9821556031406139\n",
            "Prediction accuracy = 0.9778565101860053\n",
            "Precision score = 0.9786628733997155\n"
          ],
          "name": "stdout"
        }
      ]
    },
    {
      "cell_type": "markdown",
      "metadata": {
        "id": "T_gxcft7UlKa",
        "colab_type": "text"
      },
      "source": [
        "We optimize the k value for our KNN by looping over a range of k values from 1 to 30, and by choosing the k value yielding the minimum mean squared error."
      ]
    },
    {
      "cell_type": "markdown",
      "metadata": {
        "id": "j7Dw6iDm8PV0",
        "colab_type": "text"
      },
      "source": [
        "## Random Forest Classifier"
      ]
    },
    {
      "cell_type": "code",
      "metadata": {
        "id": "lTFnbHUO8UmL",
        "colab_type": "code",
        "outputId": "9fd91aea-abfa-4301-a21f-086edaa5576a",
        "colab": {
          "base_uri": "https://localhost:8080/",
          "height": 102
        }
      },
      "source": [
        "# Random forest\n",
        "from sklearn.ensemble import RandomForestClassifier\n",
        "randForest = RandomForestClassifier(n_estimators=1, random_state=42)\n",
        "randForest.fit(X_train3, y_train3)\n",
        "y_pred3 = randForest.predict(X_test3)\n",
        "\n",
        "# Getting metric scores\n",
        "f1_score = metrics.f1_score(y_test3, y_pred3)\n",
        "prediction_accuracy = metrics.accuracy_score(y_test3, y_pred3)\n",
        "precision_score = metrics.precision_score(y_test3, y_pred3)\n",
        "confusion_matrix = metrics.confusion_matrix(y_test3, y_pred3)\n",
        "\n",
        "# Logging metric scores\n",
        "forest_log = {\"classifier\" : \"Random Forest\", \"f1\" : f1_score, \"accuracy\" : prediction_accuracy , \"precision\" : precision_score, \"confusion\" : confusion_matrix}\n",
        "log.append(forest_log)\n",
        "\n",
        "# Printing metrics\n",
        "print(\"Metrics\")\n",
        "print(\"---------\")\n",
        "print('f1 score =', f1_score)\n",
        "print('Prediction accuracy =', prediction_accuracy)\n",
        "print('Precision score =', precision_score)"
      ],
      "execution_count": 43,
      "outputs": [
        {
          "output_type": "stream",
          "text": [
            "Metrics\n",
            "---------\n",
            "f1 score = 0.9667630057803468\n",
            "Prediction accuracy = 0.9592559787422498\n",
            "Precision score = 0.9752186588921283\n"
          ],
          "name": "stdout"
        }
      ]
    },
    {
      "cell_type": "markdown",
      "metadata": {
        "id": "IruYBXCwLQGO",
        "colab_type": "text"
      },
      "source": [
        "# Results\n",
        "We gather the following data after testing the performance of the five classifiers on the dataset with reduced features."
      ]
    },
    {
      "cell_type": "code",
      "metadata": {
        "id": "RTnbzZfbVtV9",
        "colab_type": "code",
        "outputId": "8a12f500-302f-4581-d11b-01de6a3de5a6",
        "colab": {
          "base_uri": "https://localhost:8080/",
          "height": 102
        }
      },
      "source": [
        "classifiers = []\n",
        "f1_score_lst = []\n",
        "accuracy_lst = []\n",
        "precision_lst = []\n",
        "false_positive_lst = []\n",
        "false_negative_lst = []\n",
        "for classification_log in log: \n",
        "  classifiers.append(classification_log[\"classifier\"])\n",
        "  f1_score_lst.append(classification_log[\"f1\"])\n",
        "  accuracy_lst.append(classification_log[\"accuracy\"])\n",
        "  precision_lst.append(classification_log[\"precision\"])\n",
        "  false_positive_lst.append(classification_log[\"confusion\"][0][1])\n",
        "  false_negative_lst.append(classification_log[\"confusion\"][1][0])\n",
        "\n",
        "print(\"Classifier with highest f1 score: \" + classifiers[np.argmax(f1_score_lst)])\n",
        "print(\"Classifier with highest accuracy: \" + classifiers[np.argmax(accuracy_lst)])\n",
        "print(\"Classifier with highest precision: \" + classifiers[np.argmax(precision_lst)])\n",
        "print(\"Classifier with lowest false positives: \" + classifiers[np.argmin(false_positive_lst)])\n",
        "print(\"Classifier with lowest false negatives: \" + classifiers[np.argmin(false_negative_lst)])\n"
      ],
      "execution_count": 44,
      "outputs": [
        {
          "output_type": "stream",
          "text": [
            "Classifier with highest f1 score: SVM\n",
            "Classifier with highest accuracy: SVM\n",
            "Classifier with highest precision: Decision Tree\n",
            "Classifier with lowest false positives: Decision Tree\n",
            "Classifier with lowest false negatives: SVM\n"
          ],
          "name": "stdout"
        }
      ]
    },
    {
      "cell_type": "markdown",
      "metadata": {
        "id": "Iq1NndqBwJwT",
        "colab_type": "text"
      },
      "source": [
        "## Results Visualized"
      ]
    },
    {
      "cell_type": "code",
      "metadata": {
        "id": "vZO-M0pVwM4w",
        "colab_type": "code",
        "outputId": "5e3a6f08-6c35-4188-d01c-d19c75c8931d",
        "colab": {
          "base_uri": "https://localhost:8080/",
          "height": 295
        }
      },
      "source": [
        "# formatting metrics collected in log\n",
        "labels = [\"f1 score\", \"accuracy\", \"precision\"]\n",
        "\n",
        "x = np.arange(len(f1_score_lst))\n",
        "width = 0.20\n",
        "\n",
        "fig, axes = plt.subplots(ncols=1, nrows=1)\n",
        "plt.title('Metrics per Classifier')\n",
        "plt.xlabel('Classifiers')\n",
        "plt.ylabel('Score')\n",
        "axes.bar(x-0.2, f1_score_lst, width=width, align='edge', label=labels[0])\n",
        "axes.bar(x, accuracy_lst, width=width, align='edge', color=list(plt.rcParams['axes.prop_cycle'])[2]['color'], label=labels[1])\n",
        "axes.bar(x+0.2, precision_lst, width=width, align='edge', color=list(plt.rcParams['axes.prop_cycle'])[3]['color'], label=labels[2])\n",
        "axes.set_xticks(x)\n",
        "axes.set_xticklabels(classifiers)\n",
        "axes.set_ylim([0.85, 1])\n",
        "plt.legend()\n",
        "plt.show()"
      ],
      "execution_count": 45,
      "outputs": [
        {
          "output_type": "display_data",
          "data": {
            "image/png": "[encoded data removed]",
            "text/plain": [
              "<Figure size 432x288 with 1 Axes>"
            ]
          },
          "metadata": {
            "tags": []
          }
        }
      ]
    },
    {
      "cell_type": "code",
      "metadata": {
        "id": "kiF4dGcM81c5",
        "colab_type": "code",
        "outputId": "9b480d61-c67b-454c-9838-6de73fe56cb0",
        "colab": {
          "base_uri": "https://localhost:8080/",
          "height": 1000
        }
      },
      "source": [
        "FPRs = []\n",
        "for i in range(len(log)):\n",
        "  FP = log[i]['confusion'][0][1]\n",
        "  TN = log[i]['confusion'][0][0]\n",
        "  FPR = FP / (FP + TN)\n",
        "  FPRs.append((log[i]['classifier'], FPR))\n",
        "  sns.heatmap(log[i][\"confusion\"], annot = True,  linewidths=.5, cbar =None, fmt='g')\n",
        "  plt.title(log[i][\"classifier\"] + \" confusion matrix\")\n",
        "  plt.ylabel('True class')\n",
        "  plt.xlabel('Predicted class');\n",
        "  plt.show()"
      ],
      "execution_count": 46,
      "outputs": [
        {
          "output_type": "display_data",
          "data": {
            "image/png": "[encoded data removed]",
            "text/plain": [
              "<Figure size 432x288 with 1 Axes>"
            ]
          },
          "metadata": {
            "tags": []
          }
        },
        {
          "output_type": "display_data",
          "data": {
            "image/png": "[encoded data removed]",
            "text/plain": [
              "<Figure size 432x288 with 1 Axes>"
            ]
          },
          "metadata": {
            "tags": []
          }
        },
        {
          "output_type": "display_data",
          "data": {
            "image/png": "[encoded data removed]",
            "text/plain": [
              "<Figure size 432x288 with 1 Axes>"
            ]
          },
          "metadata": {
            "tags": []
          }
        },
        {
          "output_type": "display_data",
          "data": {
            "image/png": "[encoded data removed]",
            "text/plain": [
              "<Figure size 432x288 with 1 Axes>"
            ]
          },
          "metadata": {
            "tags": []
          }
        },
        {
          "output_type": "display_data",
          "data": {
            "image/png": "[encoded data removed]",
            "text/plain": [
              "<Figure size 432x288 with 1 Axes>"
            ]
          },
          "metadata": {
            "tags": []
          }
        }
      ]
    },
    {
      "cell_type": "code",
      "metadata": {
        "id": "6NoGsaU7i1fF",
        "colab_type": "code",
        "outputId": "37add623-6744-443b-f6b6-1c837d8fb257",
        "colab": {
          "base_uri": "https://localhost:8080/",
          "height": 136
        }
      },
      "source": [
        "highest = 0\n",
        "lowest = 1\n",
        "for FPR in FPRs:\n",
        "  if (FPR[1] > highest):\n",
        "    highest = FPR[1]\n",
        "  if (FPR[1] < lowest):\n",
        "    lowest = FPR[1]\n",
        "  print(FPR[0], ':', FPR[1])\n",
        "\n",
        "print('Highest false positive rate =', highest)\n",
        "print('Lowest false positive rate=', lowest)"
      ],
      "execution_count": 48,
      "outputs": [
        {
          "output_type": "stream",
          "text": [
            "Logistic Regression : 0.1531322505800464\n",
            "SVM : 0.04640371229698376\n",
            "Decision Tree : 0.025522041763341066\n",
            "KNN : 0.03480278422273782\n",
            "Random Forest : 0.03944315545243619\n",
            "Highest false positive rate = 0.1531322505800464\n",
            "Lowest false positive rate= 0.025522041763341066\n"
          ],
          "name": "stdout"
        }
      ]
    },
    {
      "cell_type": "markdown",
      "metadata": {
        "id": "5raVqfPzrBoX",
        "colab_type": "text"
      },
      "source": [
        "# Conclusion"
      ]
    },
    {
      "cell_type": "markdown",
      "metadata": {
        "id": "O2hZIhYcYFNw",
        "colab_type": "text"
      },
      "source": [
        "Given the results calculated above, we conclude that the decision tree classifier and the Support Vector Machine are the classifiers best suited for this dataset with the features we have selected. The logistic regression classifier clearly underperformed, and the relatively lower metrics of the classifier are likely due to the inseparable nature of the clusters as visualized in the t-SNE plot. The primary goal of the classifiers was to reduce the number of false positives, as a false positive would result in a poisonous mushroom being classified as edible. Therefore, the decision tree algorithm is determined to be the best classifier for the given features and dataset."
      ]
    },
    {
      "cell_type": "markdown",
      "metadata": {
        "id": "ZBaNRkookT5z",
        "colab_type": "text"
      },
      "source": [
        "The lowest false positive rate is obtained for the decision tree classifier. On the other hand, SVM and KNN have the highest F1-scores. However, the f1-score accounts for false negatives as well as false positives; in our case, false positives are more relevant as the consequences of classifying a poisonous mushroom as edible may be deadly. Classifying an edible mushroom as poisonous isn't as important a missclassification for this dataset. \n",
        "\n",
        "In conclusion, the decision tree classifier is best suited to classify mushrooms as edible and poisonous in this dataset."
      ]
    },
    {
      "cell_type": "markdown",
      "metadata": {
        "id": "IIR4hIW4h7po",
        "colab_type": "text"
      },
      "source": [
        "# References"
      ]
    },
    {
      "cell_type": "markdown",
      "metadata": {
        "id": "MTzgmhkdh95m",
        "colab_type": "text"
      },
      "source": [
        "[1]www.kaggle.com/haimfeld87/analysis-and-classification-of-mushrooms\n",
        "\n",
        "[2]https://archive.ics.uci.edu/ml/datasets/Mushroom\n",
        "\n",
        "[3] Schlimmer,J.S. (1987). Concept Acquisition Through Representational Adjustment (Technical Report 87-19). Doctoral dissertation, Department of Information and Computer Science, University of California, Irvine.\n",
        "\n",
        "[4] Iba,W., Wogulis,J., & Langley,P. (1988). Trading off Simplicity and Coverage in Incremental Concept Learning. In Proceedings of the 5th International Conference on Machine Learning, 73-79. Ann Arbor, Michigan: Morgan Kaufmann.\n",
        "\n",
        "[5] Duch W, Adamczak R, Grabczewski K (1996) Extraction of logical rules from training data using backpropagation networks, in: Proc. of the The 1st Online Workshop on Soft Computing, 19-30.Aug.1996, pp. 25-30.\n",
        "\n",
        "[6] Duch W, Adamczak R, Grabczewski K, Ishikawa M, Ueda H, Extraction of crisp logical rules using constrained backpropagation networks - comparison of two new approaches, in: Proc. of the European Symposium on Artificial Neural Networks (ESANN'97), Bruge, Belgium 16-18.4.1997.\n"
      ]
    }
  ]
}